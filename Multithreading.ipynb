{
 "cells": [
  {
   "cell_type": "markdown",
   "id": "689736ae",
   "metadata": {},
   "source": [
    "# what is multithreading in python? why is it used? Name the module used to handle threads in python."
   ]
  },
  {
   "cell_type": "code",
   "execution_count": 1,
   "id": "fc4d6bd0",
   "metadata": {},
   "outputs": [],
   "source": [
    "# Multithreading is defined as the ability of a processor to execute multiple threads concurrently. In a simple, single-core CPU\n",
    "# it is achieved using frequent switching between threads. This is termed context switching. In context switching, the state of\n",
    "# a thread is saved and the state of another thread is loaded whenever any interrupt (due to I/O or manually set) takes place.\n",
    "# Context switching takes place so frequently that all the threads appear to be running parallelly (this is termed multitasking)\n",
    "\n",
    "# The main reason for incorporating threads into an application is to improve its performance. Performance can be expressed in\n",
    "# multiple ways: A web server will utilize multiple threads to simultaneous process requests for data at the same time.\n",
    "\n",
    "#To use multithreading, we need to import the threading module in Python Program."
   ]
  },
  {
   "cell_type": "markdown",
   "id": "7cff8c55",
   "metadata": {},
   "source": [
    "# why threading module used? write the use of the following functions.activeCount(),currentThread(),enumerate().\n",
    "\n"
   ]
  },
  {
   "cell_type": "code",
   "execution_count": 3,
   "id": "57c72b22",
   "metadata": {},
   "outputs": [
    {
     "name": "stdout",
     "output_type": "stream",
     "text": [
      "START: Current active thread count:  6\n",
      "Thread-2: Number of active threads: 8\n",
      "Thread 2 Value: 20\n",
      "Thread-1: Number of active threads: 7\n",
      "Thread 1 Value: 10\n"
     ]
    }
   ],
   "source": [
    "# Python threading allows you to have different parts of your program run concurrently and can simplify your design. we can\n",
    "# speed up program using threads.\n",
    "\n",
    "# activeCount() − Returns the number of thread objects that are active.\n",
    "# currentThread() − Returns the number of thread objects in the caller's thread control.\n",
    "# enumerate() − Returns a list of all thread objects that are currently active.\n",
    "\n",
    "#activeCount() − Returns the number of thread objects that are active.\n",
    "# Program to count active threads\n",
    "# active_count() method from Threading Module\n",
    "import threading\n",
    "import time\n",
    "# Methods for two threads..\n",
    "def thread1_Subroutine(i):\n",
    "    time.sleep(1)\n",
    "    print(\"Thread-1: Number of active threads:\",threading.active_count())\n",
    "    print('Thread 1 Value:', i)\n",
    "\n",
    "def thread2_Subroutine(i):\n",
    "    print(\"Thread-2: Number of active threads:\", threading.active_count())\n",
    "    print('Thread 2 Value:', i)\n",
    "    \n",
    "# Creating sample threads\n",
    "thread1 = threading.Thread(target=thread1_Subroutine, args=(10,))\n",
    "thread2 = threading.Thread(target=thread2_Subroutine, args=(20,))\n",
    "\n",
    "print(\"START: Current active thread count: \", threading.active_count())\n",
    "# Calling start() method to initialize execution\n",
    "thread1.start()\n",
    "thread2.start()\n",
    "\n"
   ]
  },
  {
   "cell_type": "code",
   "execution_count": 4,
   "id": "296b3812",
   "metadata": {},
   "outputs": [
    {
     "name": "stdout",
     "output_type": "stream",
     "text": [
      "Active current thread right now: <_MainThread(MainThread, started 20796)>\n",
      "Active current thread right now: <Thread(Thread-7 (thread_1), started 20748)>\n",
      "Value by Thread 1: 1\n",
      "Active current thread right now: <Thread(Thread-8 (thread_2), started 19084)>\n",
      "Value by Thread 2: 2\n"
     ]
    }
   ],
   "source": [
    "\n",
    "# current_thread() method in Threading Module\n",
    "\n",
    "import time\n",
    "import threading\n",
    "\n",
    "def thread_1(i):\n",
    "    time.sleep(2)\n",
    "    print(\"Active current thread right now:\", (threading.current_thread()))\n",
    "    print('Value by Thread 1:', i)\n",
    "\n",
    "def thread_2(i):\n",
    "    time.sleep(5)\n",
    "    print(\"Active current thread right now:\", (threading.current_thread()))\n",
    "    print('Value by Thread 2:', i)\n",
    "    \n",
    "\n",
    "    \n",
    "# Creating sample threads \n",
    "thread1 = threading.Thread(target=thread_1, args=(1,))\n",
    "thread2 = threading.Thread(target=thread_2, args=(2,))\n",
    "\n",
    "\n",
    "print(\"Active current thread right now:\", (threading.current_thread()))\n",
    "#3 Initially it is the main thread that is active\n",
    "\n",
    "# Starting the threads\n",
    "thread1.start()\n",
    "thread2.start()\n",
    "\n"
   ]
  },
  {
   "cell_type": "code",
   "execution_count": 6,
   "id": "4107df62",
   "metadata": {},
   "outputs": [
    {
     "name": "stdout",
     "output_type": "stream",
     "text": [
      "(0, 'A')\n",
      "(1, 'B')\n",
      "(2, 'C')\n"
     ]
    }
   ],
   "source": [
    "# \n",
    "l1 = [\"A\",\"B\",\"C\"]\n",
    "  \n",
    "# printing the tuples in object directly\n",
    "for ele in enumerate(l1):\n",
    "    print (ele)"
   ]
  },
  {
   "cell_type": "markdown",
   "id": "a520af54",
   "metadata": {},
   "source": [
    "# Explain the following functions. run(),start(),join()"
   ]
  },
  {
   "cell_type": "code",
   "execution_count": 8,
   "id": "a8fd3e57",
   "metadata": {},
   "outputs": [
    {
     "data": {
      "text/plain": [
       "'DAEAF'"
      ]
     },
     "execution_count": 8,
     "metadata": {},
     "output_type": "execute_result"
    }
   ],
   "source": [
    "#run()\n",
    "# The run() method executes any target function belonging to a given thread object that is now active. It normally executes in\n",
    "# the background after the start() method is invoked.\n",
    "\n",
    "# start()\n",
    "#start() method is an inbuilt method of the Thread class of the threading module, it is used to start a thread's activity. \n",
    "\n",
    "#join()\n",
    "#Join in Python is an in-built method used to join an iterable's elements, separated by a string separator, which is specified\n",
    "#by you. Thus, whenever you want to join the elements of an iterable and make it a string, you can use the string join in \n",
    "#Python.\n",
    "s=\"A\"\n",
    "s= s.join(\"DEF\")\n",
    "s"
   ]
  },
  {
   "cell_type": "code",
   "execution_count": 9,
   "id": "2c2e0f30",
   "metadata": {},
   "outputs": [],
   "source": [
    "#is_alive()\n",
    "# is_alive() method is an inbuilt method of the Thread class of the threading module, it is used to check whether that thread \n",
    "# is alive or not, ie, it is still running or not. This method returns True before the run() starts until just after the run()\n",
    "# method is executed."
   ]
  },
  {
   "cell_type": "markdown",
   "id": "cf361d5d",
   "metadata": {},
   "source": [
    "# write a python program to create two threads. Thread one must print the list of squares and thread two must print the list of cubes."
   ]
  },
  {
   "cell_type": "code",
   "execution_count": 21,
   "id": "49fc71ea",
   "metadata": {},
   "outputs": [
    {
     "name": "stdout",
     "output_type": "stream",
     "text": [
      "0\n",
      "1\n",
      "4\n",
      "9\n",
      "16\n",
      "0\n",
      "1\n",
      "8\n",
      "27\n",
      "64\n"
     ]
    }
   ],
   "source": [
    "import threading\n",
    "import time\n",
    "l1=[2,3,4]\n",
    "def Square_thread(num):\n",
    "    print(num*num)\n",
    "    time.sleep(1)\n",
    "    \n",
    "def Cube_thread(num):\n",
    "    print(num*num*num)\n",
    "    time.sleep(1)\n",
    "\n",
    "    \n",
    "    \n",
    "thread1 = [threading.Thread(target=Square_thread,args=(i,)) for i in range(5)]\n",
    "thread2 = [threading.Thread(target =Cube_thread, args=(i,)) for i in range(5)]\n",
    "\n",
    "for t in thread1:\n",
    "    t.start()\n",
    "    \n",
    "for a in thread2:\n",
    "    a.start()\n",
    "    \n"
   ]
  },
  {
   "cell_type": "markdown",
   "id": "e0cabc80",
   "metadata": {},
   "source": [
    "#  State advantages and disadvantages of multithreading."
   ]
  },
  {
   "cell_type": "code",
   "execution_count": 22,
   "id": "6b522eb5",
   "metadata": {},
   "outputs": [],
   "source": [
    "#Advantage:\n",
    "# Improved performance: Multithreading can help increase the overall performance of an application, especially on systems with \n",
    "# multiple processors or cores. It allows multiple tasks to run concurrently, utilizing the available CPU resources more \n",
    "# efficiently.\n",
    "\n",
    "# Responsiveness: In a single-threaded environment, if a long-running task blocks the main thread, the entire application \n",
    "#becomes nresponsive. Multithreading can prevent this issue by running such tasks in separate threads, ensuring the application\n",
    "# remains responsive.\n",
    "\n",
    "# Better resource utilization: Multithreading allows better utilization of system resources by keeping the CPU busy while \n",
    "# waiting for I/O operations or other tasks to complete.\n",
    "\n",
    "# Simplified modeling: Some problems can be more naturally modeled using multiple threads. This makes the program easier to\n",
    "# design, understand, and maintain.\n",
    "\n",
    "# Parallelism: Multithreading enables parallelism, which can lead to significant performance improvements in applications that\n",
    "# can be divided into smaller, independent tasks.\n",
    "\n",
    "#Disadvantages:\n",
    "\n",
    "# Complexity: Multithreading adds complexity to the program, making it more difficult to design, implement, and debug.\n",
    "# Developers need to be aware of synchronization, deadlocks, race conditions, and other concurrency-related issues.\n",
    "\n",
    "# Synchronization overhead: To avoid data corruption and maintain consistency, developers must synchronize access to shared\n",
    "# resources, which can result in additional overhead and reduced performance.\n",
    "\n",
    "# Context switching: Context switching between threads consumes CPU time and resources, which can lead to performance\n",
    "# degradation if not managed efficiently.\n",
    "\n",
    "# Hard to predict behavior: Due to the concurrent nature of multithreading, the behavior of the program can be hard to predict\n",
    "# and reproduce, especially when it comes to debugging.\n",
    "\n",
    "# Limited by hardware: The performance benefits of multithreading are limited by the number of available cores or processors\n",
    "# in the system. In some cases, excessive use of threads can lead to performance degradation instead of improvement."
   ]
  },
  {
   "cell_type": "markdown",
   "id": "05e17526",
   "metadata": {},
   "source": [
    "# Explain deadlocks and race conditions."
   ]
  },
  {
   "cell_type": "code",
   "execution_count": 23,
   "id": "e62d7841",
   "metadata": {},
   "outputs": [],
   "source": [
    "# A deadlock is a situation in which two computer programs sharing the same resource are effectively preventing each other\n",
    "# from accessing the resource, resulting in both programs ceasing to function. The earliest computer operating systems ran only\n",
    "# one program at a time.\n",
    "\n",
    "# A race condition is an undesirable situation that occurs when a device or system attempts to perform two or more operations at\n",
    "# the same time, but because of the nature of the device or system, the operations must be done in the proper sequence to be \n",
    "# done correctly.\n",
    "# Race conditions are most commonly associated with computer science and programming. They occur when two computer program \n",
    "# processes, or threads, attempt to access the same resource at the same time and cause problems in the system.\n",
    "# Race conditions are considered a common issue for multithreaded applications"
   ]
  },
  {
   "cell_type": "code",
   "execution_count": null,
   "id": "78099fac",
   "metadata": {},
   "outputs": [],
   "source": []
  }
 ],
 "metadata": {
  "kernelspec": {
   "display_name": "Python 3 (ipykernel)",
   "language": "python",
   "name": "python3"
  },
  "language_info": {
   "codemirror_mode": {
    "name": "ipython",
    "version": 3
   },
   "file_extension": ".py",
   "mimetype": "text/x-python",
   "name": "python",
   "nbconvert_exporter": "python",
   "pygments_lexer": "ipython3",
   "version": "3.11.4"
  }
 },
 "nbformat": 4,
 "nbformat_minor": 5
}
